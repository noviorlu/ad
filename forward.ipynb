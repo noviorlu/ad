{
 "cells": [
  {
   "cell_type": "code",
   "execution_count": 1,
   "id": "94194671",
   "metadata": {},
   "outputs": [],
   "source": [
    "import math\n",
    "\n",
    "class FWD:\n",
    "    def __init__(self, value, derivative=0):\n",
    "        self.value = value\n",
    "        self.derivative = derivative\n",
    "\n",
    "    # z = x(θ) + y(θ), dz/dθ = dx/dθ + dy/dθ\n",
    "    def __add__(self, other):\n",
    "        if isinstance(other, FWD):\n",
    "            return FWD(self.value + other.value, self.derivative + other.derivative)\n",
    "        else:\n",
    "            return FWD(self.value + other, self.derivative)\n",
    "        \n",
    "    def __radd__(self, other):\n",
    "        return self.__add__(other)\n",
    "\n",
    "    # z = x(θ) - y(θ), dz/dθ = dx/dθ - dy/dθ\n",
    "    def __sub__(self, other):\n",
    "        if isinstance(other, FWD):\n",
    "            return FWD(self.value - other.value, self.derivative - other.derivative)\n",
    "        else:\n",
    "            return FWD(self.value - other, self.derivative)\n",
    "        \n",
    "    def __rsub__(self, other):\n",
    "        return FWD(other - self.value, -self.derivative)\n",
    "\n",
    "    # z = x(θ) * y(θ), dz/dθ = x(θ) * dy/dθ + y(θ) * dx/dθ\n",
    "    def __mul__(self, other):\n",
    "        if isinstance(other, FWD):\n",
    "            return FWD(self.value * other.value, self.derivative * other.value + self.value * other.derivative)\n",
    "        else:\n",
    "            return FWD(self.value * other, self.derivative * other)\n",
    "\n",
    "    def __rmul__(self, other):\n",
    "        return self.__mul__(other)\n",
    "\n",
    "    # z = x(θ) / y(θ), dz/dθ = (y(θ) * dx/dθ - x(θ) * dy/dθ) / (y(θ))^2\n",
    "    def __truediv__(self, other):\n",
    "        if isinstance(other, FWD):\n",
    "            return FWD(self.value / other.value, (other.value * self.derivative - self.value * other.derivative) / (other.value ** 2))\n",
    "        else:\n",
    "            return FWD(self.value / other, self.derivative / other)\n",
    "\n",
    "    def __rtruediv__(self, other):\n",
    "        return FWD(other / self.value, -other * self.derivative / (self.value ** 2))\n",
    "\n",
    "    # y = sin(x(θ)), dy/dθ = cos(x(θ)) * dx/dθ\n",
    "    @staticmethod\n",
    "    def sin(x):\n",
    "        return FWD(math.sin(x.value), math.cos(x.value) * x.derivative)\n",
    "\n",
    "    # y = cos(x(θ)), dy/dθ = -sin(x(θ)) * dx/dθ\n",
    "    @staticmethod\n",
    "    def cos(x):\n",
    "        return FWD(math.cos(x.value), -math.sin(x.value) * x.derivative)\n",
    "\n",
    "    # y = sqrt(x(θ)), dy/dθ = 0.5 / sqrt(x(θ)) * dx/dθ\n",
    "    @staticmethod\n",
    "    def sqrt(x):\n",
    "        return FWD(math.sqrt(x.value), 0.5 / math.sqrt(x.value) * x.derivative)"
   ]
  },
  {
   "cell_type": "code",
   "execution_count": null,
   "id": "56748ce2",
   "metadata": {},
   "outputs": [
    {
     "name": "stdout",
     "output_type": "stream",
     "text": [
      "f(4) = 19.0\n",
      "f'(4) = 3.25\n"
     ]
    }
   ],
   "source": [
    "def forward(func):\n",
    "    def gradient_func(x):\n",
    "        dual_x = FWD(x, 1.0)\n",
    "        result = func(dual_x)\n",
    "        return result.value, result.derivative\n",
    "    return gradient_func\n",
    "\n",
    "def simple_function(x):\n",
    "    result = FWD.sqrt(x) + 3*x + 5\n",
    "    return result\n",
    "\n",
    "if __name__ == \"__main__\":\n",
    "    grad_func = forward(simple_function)\n",
    "    f_val, f_prime = grad_func(4)\n",
    "    print(f\"f(4) = {f_val}\")\n",
    "    print(f\"f'(4) = {f_prime}\")"
   ]
  },
  {
   "cell_type": "code",
   "execution_count": null,
   "id": "a09391c4",
   "metadata": {},
   "outputs": [],
   "source": []
  }
 ],
 "metadata": {
  "kernelspec": {
   "display_name": "smooth",
   "language": "python",
   "name": "python3"
  },
  "language_info": {
   "codemirror_mode": {
    "name": "ipython",
    "version": 3
   },
   "file_extension": ".py",
   "mimetype": "text/x-python",
   "name": "python",
   "nbconvert_exporter": "python",
   "pygments_lexer": "ipython3",
   "version": "3.12.11"
  }
 },
 "nbformat": 4,
 "nbformat_minor": 5
}
